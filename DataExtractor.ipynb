{
 "metadata": {
  "language_info": {
   "codemirror_mode": {
    "name": "ipython",
    "version": 3
   },
   "file_extension": ".py",
   "mimetype": "text/x-python",
   "name": "python",
   "nbconvert_exporter": "python",
   "pygments_lexer": "ipython3",
   "version": "3.7.9-final"
  },
  "orig_nbformat": 2,
  "kernelspec": {
   "name": "python3",
   "display_name": "Python 3.7.9 64-bit ('cv': conda)",
   "metadata": {
    "interpreter": {
     "hash": "1814253e071af9c7157922d20e4007d5e9f55f0289f002bae6c3f63dcd8a7ba8"
    }
   }
  }
 },
 "nbformat": 4,
 "nbformat_minor": 2,
 "cells": [
  {
   "cell_type": "code",
   "execution_count": 1,
   "metadata": {},
   "outputs": [],
   "source": [
    "import pandas as pd\n",
    "import os\n",
    "import random\n",
    "import shutil"
   ]
  },
  {
   "cell_type": "code",
   "execution_count": 2,
   "metadata": {},
   "outputs": [],
   "source": [
    "file_path='master/metadata.csv'\n",
    "images_path='master/images'\n",
    "\n",
    "df=pd.read_csv(file_path)"
   ]
  },
  {
   "cell_type": "code",
   "execution_count": 3,
   "metadata": {},
   "outputs": [
    {
     "output_type": "execute_result",
     "data": {
      "text/plain": [
       "  patientid  offset sex   age                   finding RT_PCR_positive  \\\n",
       "0         2     0.0   M  65.0  Pneumonia/Viral/COVID-19               Y   \n",
       "1         2     3.0   M  65.0  Pneumonia/Viral/COVID-19               Y   \n",
       "2         2     5.0   M  65.0  Pneumonia/Viral/COVID-19               Y   \n",
       "3         2     6.0   M  65.0  Pneumonia/Viral/COVID-19               Y   \n",
       "4         4     0.0   F  52.0  Pneumonia/Viral/COVID-19               Y   \n",
       "\n",
       "  survival intubated intubation_present went_icu  ...              date  \\\n",
       "0        Y         N                  N        N  ...  January 22, 2020   \n",
       "1        Y         N                  N        N  ...  January 25, 2020   \n",
       "2        Y         N                  N        N  ...  January 27, 2020   \n",
       "3        Y         N                  N        N  ...  January 28, 2020   \n",
       "4      NaN         N                  N        N  ...  January 25, 2020   \n",
       "\n",
       "                                            location  folder  \\\n",
       "0        Cho Ray Hospital, Ho Chi Minh City, Vietnam  images   \n",
       "1        Cho Ray Hospital, Ho Chi Minh City, Vietnam  images   \n",
       "2        Cho Ray Hospital, Ho Chi Minh City, Vietnam  images   \n",
       "3        Cho Ray Hospital, Ho Chi Minh City, Vietnam  images   \n",
       "4  Changhua Christian Hospital, Changhua City, Ta...  images   \n",
       "\n",
       "                                            filename                   doi  \\\n",
       "0  auntminnie-a-2020_01_28_23_51_6665_2020_01_28_...  10.1056/nejmc2001272   \n",
       "1  auntminnie-b-2020_01_28_23_51_6665_2020_01_28_...  10.1056/nejmc2001272   \n",
       "2  auntminnie-c-2020_01_28_23_51_6665_2020_01_28_...  10.1056/nejmc2001272   \n",
       "3  auntminnie-d-2020_01_28_23_51_6665_2020_01_28_...  10.1056/nejmc2001272   \n",
       "4                              nejmc2001573_f1a.jpeg  10.1056/NEJMc2001573   \n",
       "\n",
       "                                                 url  license  \\\n",
       "0  https://www.nejm.org/doi/full/10.1056/NEJMc200...      NaN   \n",
       "1  https://www.nejm.org/doi/full/10.1056/NEJMc200...      NaN   \n",
       "2  https://www.nejm.org/doi/full/10.1056/NEJMc200...      NaN   \n",
       "3  https://www.nejm.org/doi/full/10.1056/NEJMc200...      NaN   \n",
       "4  https://www.nejm.org/doi/full/10.1056/NEJMc200...      NaN   \n",
       "\n",
       "                                      clinical_notes other_notes Unnamed: 29  \n",
       "0  On January 22, 2020, a 65-year-old man with a ...         NaN         NaN  \n",
       "1  On January 22, 2020, a 65-year-old man with a ...         NaN         NaN  \n",
       "2  On January 22, 2020, a 65-year-old man with a ...         NaN         NaN  \n",
       "3  On January 22, 2020, a 65-year-old man with a ...         NaN         NaN  \n",
       "4   diffuse infiltrates in the bilateral lower lungs         NaN         NaN  \n",
       "\n",
       "[5 rows x 30 columns]"
      ],
      "text/html": "<div>\n<style scoped>\n    .dataframe tbody tr th:only-of-type {\n        vertical-align: middle;\n    }\n\n    .dataframe tbody tr th {\n        vertical-align: top;\n    }\n\n    .dataframe thead th {\n        text-align: right;\n    }\n</style>\n<table border=\"1\" class=\"dataframe\">\n  <thead>\n    <tr style=\"text-align: right;\">\n      <th></th>\n      <th>patientid</th>\n      <th>offset</th>\n      <th>sex</th>\n      <th>age</th>\n      <th>finding</th>\n      <th>RT_PCR_positive</th>\n      <th>survival</th>\n      <th>intubated</th>\n      <th>intubation_present</th>\n      <th>went_icu</th>\n      <th>...</th>\n      <th>date</th>\n      <th>location</th>\n      <th>folder</th>\n      <th>filename</th>\n      <th>doi</th>\n      <th>url</th>\n      <th>license</th>\n      <th>clinical_notes</th>\n      <th>other_notes</th>\n      <th>Unnamed: 29</th>\n    </tr>\n  </thead>\n  <tbody>\n    <tr>\n      <th>0</th>\n      <td>2</td>\n      <td>0.0</td>\n      <td>M</td>\n      <td>65.0</td>\n      <td>Pneumonia/Viral/COVID-19</td>\n      <td>Y</td>\n      <td>Y</td>\n      <td>N</td>\n      <td>N</td>\n      <td>N</td>\n      <td>...</td>\n      <td>January 22, 2020</td>\n      <td>Cho Ray Hospital, Ho Chi Minh City, Vietnam</td>\n      <td>images</td>\n      <td>auntminnie-a-2020_01_28_23_51_6665_2020_01_28_...</td>\n      <td>10.1056/nejmc2001272</td>\n      <td>https://www.nejm.org/doi/full/10.1056/NEJMc200...</td>\n      <td>NaN</td>\n      <td>On January 22, 2020, a 65-year-old man with a ...</td>\n      <td>NaN</td>\n      <td>NaN</td>\n    </tr>\n    <tr>\n      <th>1</th>\n      <td>2</td>\n      <td>3.0</td>\n      <td>M</td>\n      <td>65.0</td>\n      <td>Pneumonia/Viral/COVID-19</td>\n      <td>Y</td>\n      <td>Y</td>\n      <td>N</td>\n      <td>N</td>\n      <td>N</td>\n      <td>...</td>\n      <td>January 25, 2020</td>\n      <td>Cho Ray Hospital, Ho Chi Minh City, Vietnam</td>\n      <td>images</td>\n      <td>auntminnie-b-2020_01_28_23_51_6665_2020_01_28_...</td>\n      <td>10.1056/nejmc2001272</td>\n      <td>https://www.nejm.org/doi/full/10.1056/NEJMc200...</td>\n      <td>NaN</td>\n      <td>On January 22, 2020, a 65-year-old man with a ...</td>\n      <td>NaN</td>\n      <td>NaN</td>\n    </tr>\n    <tr>\n      <th>2</th>\n      <td>2</td>\n      <td>5.0</td>\n      <td>M</td>\n      <td>65.0</td>\n      <td>Pneumonia/Viral/COVID-19</td>\n      <td>Y</td>\n      <td>Y</td>\n      <td>N</td>\n      <td>N</td>\n      <td>N</td>\n      <td>...</td>\n      <td>January 27, 2020</td>\n      <td>Cho Ray Hospital, Ho Chi Minh City, Vietnam</td>\n      <td>images</td>\n      <td>auntminnie-c-2020_01_28_23_51_6665_2020_01_28_...</td>\n      <td>10.1056/nejmc2001272</td>\n      <td>https://www.nejm.org/doi/full/10.1056/NEJMc200...</td>\n      <td>NaN</td>\n      <td>On January 22, 2020, a 65-year-old man with a ...</td>\n      <td>NaN</td>\n      <td>NaN</td>\n    </tr>\n    <tr>\n      <th>3</th>\n      <td>2</td>\n      <td>6.0</td>\n      <td>M</td>\n      <td>65.0</td>\n      <td>Pneumonia/Viral/COVID-19</td>\n      <td>Y</td>\n      <td>Y</td>\n      <td>N</td>\n      <td>N</td>\n      <td>N</td>\n      <td>...</td>\n      <td>January 28, 2020</td>\n      <td>Cho Ray Hospital, Ho Chi Minh City, Vietnam</td>\n      <td>images</td>\n      <td>auntminnie-d-2020_01_28_23_51_6665_2020_01_28_...</td>\n      <td>10.1056/nejmc2001272</td>\n      <td>https://www.nejm.org/doi/full/10.1056/NEJMc200...</td>\n      <td>NaN</td>\n      <td>On January 22, 2020, a 65-year-old man with a ...</td>\n      <td>NaN</td>\n      <td>NaN</td>\n    </tr>\n    <tr>\n      <th>4</th>\n      <td>4</td>\n      <td>0.0</td>\n      <td>F</td>\n      <td>52.0</td>\n      <td>Pneumonia/Viral/COVID-19</td>\n      <td>Y</td>\n      <td>NaN</td>\n      <td>N</td>\n      <td>N</td>\n      <td>N</td>\n      <td>...</td>\n      <td>January 25, 2020</td>\n      <td>Changhua Christian Hospital, Changhua City, Ta...</td>\n      <td>images</td>\n      <td>nejmc2001573_f1a.jpeg</td>\n      <td>10.1056/NEJMc2001573</td>\n      <td>https://www.nejm.org/doi/full/10.1056/NEJMc200...</td>\n      <td>NaN</td>\n      <td>diffuse infiltrates in the bilateral lower lungs</td>\n      <td>NaN</td>\n      <td>NaN</td>\n    </tr>\n  </tbody>\n</table>\n<p>5 rows × 30 columns</p>\n</div>"
     },
     "metadata": {},
     "execution_count": 3
    }
   ],
   "source": [
    "df.head()"
   ]
  },
  {
   "cell_type": "code",
   "execution_count": 4,
   "metadata": {},
   "outputs": [],
   "source": [
    "target_path='dataset/covid'\n",
    "\n",
    "if not os.path.exists(target_path):\n",
    "    os.mkdir(target_path)"
   ]
  },
  {
   "cell_type": "code",
   "execution_count": 11,
   "metadata": {},
   "outputs": [
    {
     "output_type": "stream",
     "name": "stdout",
     "text": [
      "196\n"
     ]
    }
   ],
   "source": [
    "count=0\n",
    "\n",
    "for (i,row) in df.iterrows():\n",
    "    if row[\"finding\"]==\"Pneumonia/Viral/COVID-19\" and row[\"view\"]==\"PA\":\n",
    "        filename=row[\"filename\"]\n",
    "        image_path=os.path.join(images_path,filename)\n",
    "        final_path=ps.path.join(target_path,filename)\n",
    "        shutil.copy2(image_path,final_path)\n",
    "        count+=1\n",
    "print(count)"
   ]
  },
  {
   "cell_type": "code",
   "execution_count": null,
   "metadata": {},
   "outputs": [],
   "source": [
    "normal='chestxray/kaggle/train/NORMAL'\n",
    "normal_images=os.listdir(normal)"
   ]
  },
  {
   "cell_type": "code",
   "execution_count": null,
   "metadata": {},
   "outputs": [],
   "source": [
    "target_dir='dataset/normal'\n",
    "\n",
    "if not os.path.exists(target_dir):\n",
    "    os.mkdir(target_dir)"
   ]
  },
  {
   "cell_type": "code",
   "execution_count": null,
   "metadata": {},
   "outputs": [],
   "source": [
    "random.shuffle(normal_images)\n",
    "\n",
    "for i in range(196):\n",
    "    file_name=normal_images[i]\n",
    "    normal_image_path=os.path.join(normal,file_name)\n",
    "    normal_target_path=os.path.join(target_dir,file_name)\n",
    "    shutil.copy2(normal_image_path,normal_target_path)"
   ]
  }
 ]
}