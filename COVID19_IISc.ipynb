{
  "nbformat": 4,
  "nbformat_minor": 0,
  "metadata": {
    "accelerator": "GPU",
    "colab": {
      "name": "COVID19-IISc.ipynb",
      "provenance": [],
      "authorship_tag": "ABX9TyMop5AwDq9CXsKIp7qTVGRC",
      "include_colab_link": true
    },
    "kernelspec": {
      "display_name": "Python 3",
      "name": "python3"
    }
  },
  "cells": [
    {
      "cell_type": "markdown",
      "metadata": {
        "id": "view-in-github",
        "colab_type": "text"
      },
      "source": [
        "<a href=\"https://colab.research.google.com/github/pranay-ar/Identification-of-COVID-19-Using-X-Rays/blob/main/COVID19_IISc.ipynb\" target=\"_parent\"><img src=\"https://colab.research.google.com/assets/colab-badge.svg\" alt=\"Open In Colab\"/></a>"
      ]
    },
    {
      "cell_type": "markdown",
      "metadata": {
        "id": "iIKcZr2JsWAI"
      },
      "source": [
        "#                                                 **COVID-19 IMAGE CLASSIFIER**\n",
        "\n"
      ]
    },
    {
      "cell_type": "markdown",
      "metadata": {
        "id": "4PfrJU9ErLRZ"
      },
      "source": [
        "As the first step, I have downloaded the images from the [github repository](https://github.com/ieee8023/covid-chestxray-dataset) of Dr Joseph Paul Cohen which had a mixture of COVID-19 and other X-Rays too. So I extracted the COVID-19 Images from the metadata.csv file and prepared a new folder consisting of COVID-19 X-Rays and [normal X-Rays](https://www.kaggle.com/paultimothymooney/chest-xray-pneumonia). I had gotten 196 COVID 19 X-Rays useful for image classification from the repository of Dr Paul Cohen. Then I uploaded the folder on dropbox and we'll be downloading that zip file from the dropbox in the first step.\n",
        "\n"
      ]
    },
    {
      "cell_type": "code",
      "metadata": {
        "colab": {
          "base_uri": "https://localhost:8080/"
        },
        "id": "-nIb95bUx_HH",
        "outputId": "0cb6803d-87c2-4f1b-f929-567aaa5cf020"
      },
      "source": [
        "!wget https://bit.ly/iisc-eval"
      ],
      "execution_count": 43,
      "outputs": [
        {
          "output_type": "stream",
          "text": [
            "--2020-11-21 12:09:03--  https://bit.ly/iisc-eval\n",
            "Resolving bit.ly (bit.ly)... 67.199.248.11, 67.199.248.10\n",
            "Connecting to bit.ly (bit.ly)|67.199.248.11|:443... connected.\n",
            "HTTP request sent, awaiting response... 301 Moved Permanently\n",
            "Location: https://www.dropbox.com/s/vyqurumule9q9v3/dataset.zip?dl=0 [following]\n",
            "--2020-11-21 12:09:03--  https://www.dropbox.com/s/vyqurumule9q9v3/dataset.zip?dl=0\n",
            "Resolving www.dropbox.com (www.dropbox.com)... 162.125.1.1, 2620:100:6016:1::a27d:101\n",
            "Connecting to www.dropbox.com (www.dropbox.com)|162.125.1.1|:443... connected.\n",
            "HTTP request sent, awaiting response... 301 Moved Permanently\n",
            "Location: /s/raw/vyqurumule9q9v3/dataset.zip [following]\n",
            "--2020-11-21 12:09:03--  https://www.dropbox.com/s/raw/vyqurumule9q9v3/dataset.zip\n",
            "Reusing existing connection to www.dropbox.com:443.\n",
            "HTTP request sent, awaiting response... 302 Found\n",
            "Location: https://ucb90edd89a7a31a5aef93dab11a.dl.dropboxusercontent.com/cd/0/inline/BDncsaXYkdQegcVOtAoVLzKJMbVsOz0QSQ14Q2BRl1AoHU1zuYN8ANGzJlvvc3q1VW-bQlZGhzl7rpkjbCsXzwFdwKljr1zwi6bygOX3pFWAGZHLogpl5fCktoAJUPkCzeI/file# [following]\n",
            "--2020-11-21 12:09:03--  https://ucb90edd89a7a31a5aef93dab11a.dl.dropboxusercontent.com/cd/0/inline/BDncsaXYkdQegcVOtAoVLzKJMbVsOz0QSQ14Q2BRl1AoHU1zuYN8ANGzJlvvc3q1VW-bQlZGhzl7rpkjbCsXzwFdwKljr1zwi6bygOX3pFWAGZHLogpl5fCktoAJUPkCzeI/file\n",
            "Resolving ucb90edd89a7a31a5aef93dab11a.dl.dropboxusercontent.com (ucb90edd89a7a31a5aef93dab11a.dl.dropboxusercontent.com)... 162.125.1.15, 2620:100:6016:15::a27d:10f\n",
            "Connecting to ucb90edd89a7a31a5aef93dab11a.dl.dropboxusercontent.com (ucb90edd89a7a31a5aef93dab11a.dl.dropboxusercontent.com)|162.125.1.15|:443... connected.\n",
            "HTTP request sent, awaiting response... 302 Found\n",
            "Location: /cd/0/inline2/BDnzNnMRC6hMOwjjnYSyRfitL5u1A1H1Kr6wSVp-iPE_3RZkJtpBP2T-xnB0SFGb5600bW1kLrumSxbPWo_N40bXv1EQ9EE3FuZkKsTs27DHiYKMxtyKA6iVM3aS0PXwe4X-QfTWAJE_Y05QYJ5WxhiXnwuIDwiAAzm4SQAq8lWKp8vnFMoHeu40KvYLIgxB186ug0t0DtXpvL_z_--bdg9GaKbxDL3T2HDtDOHa7xkxR57SoDM230mUIIhytVYTmW0GCbxhIMIQQZV4n1WgnZ7Eyv9nlHZaoE8wjk4xQKVg_blkgEps-P8y51jm9yBqNcL677mdqIgNBuLpxAJJtru5tn0K9TiyF7IGyZmbi52eNQ/file [following]\n",
            "--2020-11-21 12:09:04--  https://ucb90edd89a7a31a5aef93dab11a.dl.dropboxusercontent.com/cd/0/inline2/BDnzNnMRC6hMOwjjnYSyRfitL5u1A1H1Kr6wSVp-iPE_3RZkJtpBP2T-xnB0SFGb5600bW1kLrumSxbPWo_N40bXv1EQ9EE3FuZkKsTs27DHiYKMxtyKA6iVM3aS0PXwe4X-QfTWAJE_Y05QYJ5WxhiXnwuIDwiAAzm4SQAq8lWKp8vnFMoHeu40KvYLIgxB186ug0t0DtXpvL_z_--bdg9GaKbxDL3T2HDtDOHa7xkxR57SoDM230mUIIhytVYTmW0GCbxhIMIQQZV4n1WgnZ7Eyv9nlHZaoE8wjk4xQKVg_blkgEps-P8y51jm9yBqNcL677mdqIgNBuLpxAJJtru5tn0K9TiyF7IGyZmbi52eNQ/file\n",
            "Reusing existing connection to ucb90edd89a7a31a5aef93dab11a.dl.dropboxusercontent.com:443.\n",
            "HTTP request sent, awaiting response... 200 OK\n",
            "Length: 184642217 (176M) [application/zip]\n",
            "Saving to: ‘iisc-eval.1’\n",
            "\n",
            "iisc-eval.1         100%[===================>] 176.09M  70.5MB/s    in 2.5s    \n",
            "\n",
            "2020-11-21 12:09:07 (70.5 MB/s) - ‘iisc-eval.1’ saved [184642217/184642217]\n",
            "\n"
          ],
          "name": "stdout"
        }
      ]
    },
    {
      "cell_type": "markdown",
      "metadata": {
        "id": "lbA1lkPltU_c"
      },
      "source": [
        "**Unzipping the file containing the dataset folder:**\n"
      ]
    },
    {
      "cell_type": "code",
      "metadata": {
        "colab": {
          "base_uri": "https://localhost:8080/"
        },
        "id": "81tusdT1yFq6",
        "outputId": "a5bcf7c2-5827-42e0-afdd-e85fab1d9751"
      },
      "source": [
        "!unzip iisc-eval"
      ],
      "execution_count": null,
      "outputs": [
        {
          "output_type": "stream",
          "text": [
            "Archive:  iisc-eval\n",
            "replace CovidDataset/Train/Normal/IM-0474-0001.jpeg? [y]es, [n]o, [A]ll, [N]one, [r]ename: n\n",
            "replace CovidDataset/Train/Normal/IM-0480-0001.jpeg? [y]es, [n]o, [A]ll, [N]one, [r]ename: "
          ],
          "name": "stdout"
        }
      ]
    },
    {
      "cell_type": "markdown",
      "metadata": {
        "id": "qivUXAo5tlFK"
      },
      "source": [
        "**Defining the path variables for the training and validation(named here as test just for naming purposes) folders:**\n"
      ]
    },
    {
      "cell_type": "code",
      "metadata": {
        "id": "ZjtAIw_AyKsn"
      },
      "source": [
        "train_path='CovidDataset/Train'\n",
        "test_path='CovidDataset/Test'"
      ],
      "execution_count": 4,
      "outputs": []
    },
    {
      "cell_type": "markdown",
      "metadata": {
        "id": "NvMK7GwIt1AR"
      },
      "source": [
        "**Importing all the necessary libraries we might need for the Image Classification Process**"
      ]
    },
    {
      "cell_type": "code",
      "metadata": {
        "id": "gOMLU1ZcyYO4"
      },
      "source": [
        "import keras, os \n",
        "from keras.models import Sequential\n",
        "from keras.layers import Dense, Conv2D, MaxPool2D, Flatten, Activation, Dropout\n",
        "from keras.preprocessing.image import ImageDataGenerator\n",
        "import cv2\n",
        "import numpy as np\n",
        "from keras.optimizers import SGD\n",
        "from google.colab.patches import cv2_imshow\n",
        "from keras.models import Model\n",
        "from keras.preprocessing import image"
      ],
      "execution_count": 5,
      "outputs": []
    },
    {
      "cell_type": "markdown",
      "metadata": {
        "id": "VREdz2ySu2nd"
      },
      "source": [
        "**Peforming Data Augmenation for the training images and rescaling both the training and test images by a scale of 255: "
      ]
    },
    {
      "cell_type": "code",
      "metadata": {
        "id": "FyLDK1vpzprG"
      },
      "source": [
        "train_datagen = image.ImageDataGenerator(rescale = 1./255, shear_range = 0.2, zoom_range = 0.2, horizontal_flip = True,)\n",
        "test_dataset = image.ImageDataGenerator(rescale=1./255)"
      ],
      "execution_count": 6,
      "outputs": []
    },
    {
      "cell_type": "code",
      "metadata": {
        "colab": {
          "base_uri": "https://localhost:8080/"
        },
        "id": "ghwEzPlgz1aP",
        "outputId": "193bfe5e-8dc2-4aa4-ab21-78f5db429579"
      },
      "source": [
        "train_generator = train_datagen.flow_from_directory(\n",
        "    'CovidDataset/Train',\n",
        "    target_size = (224,224),\n",
        "    batch_size = 32,\n",
        "    class_mode = 'binary')\n",
        "\n",
        "validation_generator = test_dataset.flow_from_directory(\n",
        "    'CovidDataset/Test',\n",
        "    target_size = (224,224),\n",
        "    batch_size = 32,\n",
        "    class_mode = 'binary')"
      ],
      "execution_count": 31,
      "outputs": [
        {
          "output_type": "stream",
          "text": [
            "Found 314 images belonging to 2 classes.\n",
            "Found 78 images belonging to 2 classes.\n"
          ],
          "name": "stdout"
        }
      ]
    },
    {
      "cell_type": "markdown",
      "metadata": {
        "id": "guDO9EGyvjOP"
      },
      "source": [
        "**Designing the architecture of a custom CNN Model. I had chosen a custom CNN instead of a prebuilt model like VGG16 since the data was really less (314 training images in total), the features were fine grained and the model was ridiculously slow during the training process and was not converging in the end.**"
      ]
    },
    {
      "cell_type": "code",
      "metadata": {
        "id": "MHlk_ztH0DVn"
      },
      "source": [
        "model = Sequential()\n",
        "model.add(Conv2D(32,kernel_size=(3,3),activation='relu',input_shape=(224,224,3)))\n",
        "model.add(Conv2D(64,(3,3),activation='relu'))\n",
        "model.add(MaxPool2D(pool_size=(2,2)))\n",
        "model.add(Dropout(0.25))\n",
        "\n",
        "model.add(Conv2D(64,(3,3),activation='relu'))\n",
        "model.add(MaxPool2D(pool_size=(2,2)))\n",
        "model.add(Dropout(0.25))\n",
        "\n",
        "model.add(Conv2D(128,(3,3),activation='relu'))\n",
        "model.add(MaxPool2D(pool_size=(2,2)))\n",
        "model.add(Dropout(0.25))\n",
        "\n",
        "model.add(Flatten())\n",
        "model.add(Dense(64,activation='relu'))\n",
        "model.add(Dropout(0.5))\n",
        "model.add(Dense(1,activation='sigmoid'))\n",
        "\n",
        "model.compile(loss=keras.losses.binary_crossentropy,optimizer='adam',metrics=['accuracy'])"
      ],
      "execution_count": 27,
      "outputs": []
    },
    {
      "cell_type": "code",
      "metadata": {
        "colab": {
          "base_uri": "https://localhost:8080/"
        },
        "id": "wtblGFJN4aiq",
        "outputId": "713188c7-62bb-4d40-83a7-7979e6207c51"
      },
      "source": [
        "model.summary()"
      ],
      "execution_count": 28,
      "outputs": [
        {
          "output_type": "stream",
          "text": [
            "Model: \"sequential_1\"\n",
            "_________________________________________________________________\n",
            "Layer (type)                 Output Shape              Param #   \n",
            "=================================================================\n",
            "conv2d_4 (Conv2D)            (None, 222, 222, 32)      896       \n",
            "_________________________________________________________________\n",
            "conv2d_5 (Conv2D)            (None, 220, 220, 64)      18496     \n",
            "_________________________________________________________________\n",
            "max_pooling2d_3 (MaxPooling2 (None, 110, 110, 64)      0         \n",
            "_________________________________________________________________\n",
            "dropout_4 (Dropout)          (None, 110, 110, 64)      0         \n",
            "_________________________________________________________________\n",
            "conv2d_6 (Conv2D)            (None, 108, 108, 64)      36928     \n",
            "_________________________________________________________________\n",
            "max_pooling2d_4 (MaxPooling2 (None, 54, 54, 64)        0         \n",
            "_________________________________________________________________\n",
            "dropout_5 (Dropout)          (None, 54, 54, 64)        0         \n",
            "_________________________________________________________________\n",
            "conv2d_7 (Conv2D)            (None, 52, 52, 128)       73856     \n",
            "_________________________________________________________________\n",
            "max_pooling2d_5 (MaxPooling2 (None, 26, 26, 128)       0         \n",
            "_________________________________________________________________\n",
            "dropout_6 (Dropout)          (None, 26, 26, 128)       0         \n",
            "_________________________________________________________________\n",
            "flatten_1 (Flatten)          (None, 86528)             0         \n",
            "_________________________________________________________________\n",
            "dense_2 (Dense)              (None, 64)                5537856   \n",
            "_________________________________________________________________\n",
            "dropout_7 (Dropout)          (None, 64)                0         \n",
            "_________________________________________________________________\n",
            "dense_3 (Dense)              (None, 1)                 65        \n",
            "=================================================================\n",
            "Total params: 5,668,097\n",
            "Trainable params: 5,668,097\n",
            "Non-trainable params: 0\n",
            "_________________________________________________________________\n"
          ],
          "name": "stdout"
        }
      ]
    },
    {
      "cell_type": "markdown",
      "metadata": {
        "id": "zwXbOYzUwbbd"
      },
      "source": [
        "**Training the model with all the parameters set in the following step:**"
      ]
    },
    {
      "cell_type": "code",
      "metadata": {
        "colab": {
          "base_uri": "https://localhost:8080/"
        },
        "id": "YYV3BeLS5vjP",
        "outputId": "eb5aecc5-9bf1-4bd6-a73b-b54cbc26db80"
      },
      "source": [
        "hist = model.fit_generator(\n",
        "    train_generator,\n",
        "    steps_per_epoch=10,\n",
        "    epochs = 25,\n",
        "    validation_data = validation_generator,\n",
        "    validation_steps=2\n",
        ")"
      ],
      "execution_count": 32,
      "outputs": [
        {
          "output_type": "stream",
          "text": [
            "Epoch 1/25\n",
            "10/10 [==============================] - 11s 1s/step - loss: 0.1902 - accuracy: 0.9331 - val_loss: 0.0364 - val_accuracy: 1.0000\n",
            "Epoch 2/25\n",
            "10/10 [==============================] - 11s 1s/step - loss: 0.1794 - accuracy: 0.9268 - val_loss: 0.0657 - val_accuracy: 0.9844\n",
            "Epoch 3/25\n",
            "10/10 [==============================] - 11s 1s/step - loss: 0.0944 - accuracy: 0.9841 - val_loss: 0.0284 - val_accuracy: 1.0000\n",
            "Epoch 4/25\n",
            "10/10 [==============================] - 11s 1s/step - loss: 0.1965 - accuracy: 0.9522 - val_loss: 0.0773 - val_accuracy: 0.9844\n",
            "Epoch 5/25\n",
            "10/10 [==============================] - 11s 1s/step - loss: 0.1508 - accuracy: 0.9554 - val_loss: 0.0522 - val_accuracy: 0.9844\n",
            "Epoch 6/25\n",
            "10/10 [==============================] - 11s 1s/step - loss: 0.1078 - accuracy: 0.9682 - val_loss: 0.0240 - val_accuracy: 1.0000\n",
            "Epoch 7/25\n",
            "10/10 [==============================] - 11s 1s/step - loss: 0.1080 - accuracy: 0.9650 - val_loss: 0.0288 - val_accuracy: 0.9844\n",
            "Epoch 8/25\n",
            "10/10 [==============================] - 11s 1s/step - loss: 0.1084 - accuracy: 0.9745 - val_loss: 0.0228 - val_accuracy: 1.0000\n",
            "Epoch 9/25\n",
            "10/10 [==============================] - 11s 1s/step - loss: 0.1532 - accuracy: 0.9618 - val_loss: 0.0406 - val_accuracy: 0.9844\n",
            "Epoch 10/25\n",
            "10/10 [==============================] - 11s 1s/step - loss: 0.1016 - accuracy: 0.9586 - val_loss: 0.0133 - val_accuracy: 1.0000\n",
            "Epoch 11/25\n",
            "10/10 [==============================] - 11s 1s/step - loss: 0.1421 - accuracy: 0.9554 - val_loss: 0.0225 - val_accuracy: 1.0000\n",
            "Epoch 12/25\n",
            "10/10 [==============================] - 11s 1s/step - loss: 0.1534 - accuracy: 0.9554 - val_loss: 0.0559 - val_accuracy: 0.9844\n",
            "Epoch 13/25\n",
            "10/10 [==============================] - 11s 1s/step - loss: 0.0971 - accuracy: 0.9809 - val_loss: 0.0310 - val_accuracy: 0.9844\n",
            "Epoch 14/25\n",
            "10/10 [==============================] - 11s 1s/step - loss: 0.1595 - accuracy: 0.9427 - val_loss: 0.0258 - val_accuracy: 1.0000\n",
            "Epoch 15/25\n",
            "10/10 [==============================] - 11s 1s/step - loss: 0.1114 - accuracy: 0.9745 - val_loss: 0.0403 - val_accuracy: 1.0000\n",
            "Epoch 16/25\n",
            "10/10 [==============================] - 11s 1s/step - loss: 0.1230 - accuracy: 0.9618 - val_loss: 0.0304 - val_accuracy: 1.0000\n",
            "Epoch 17/25\n",
            "10/10 [==============================] - 11s 1s/step - loss: 0.1068 - accuracy: 0.9650 - val_loss: 0.0301 - val_accuracy: 0.9844\n",
            "Epoch 18/25\n",
            "10/10 [==============================] - 11s 1s/step - loss: 0.0801 - accuracy: 0.9650 - val_loss: 0.0389 - val_accuracy: 0.9844\n",
            "Epoch 19/25\n",
            "10/10 [==============================] - 11s 1s/step - loss: 0.1233 - accuracy: 0.9490 - val_loss: 0.0374 - val_accuracy: 0.9844\n",
            "Epoch 20/25\n",
            "10/10 [==============================] - 11s 1s/step - loss: 0.0940 - accuracy: 0.9682 - val_loss: 0.0277 - val_accuracy: 0.9844\n",
            "Epoch 21/25\n",
            "10/10 [==============================] - 11s 1s/step - loss: 0.0849 - accuracy: 0.9841 - val_loss: 0.0230 - val_accuracy: 0.9844\n",
            "Epoch 22/25\n",
            "10/10 [==============================] - 11s 1s/step - loss: 0.0805 - accuracy: 0.9745 - val_loss: 0.0193 - val_accuracy: 1.0000\n",
            "Epoch 23/25\n",
            "10/10 [==============================] - 11s 1s/step - loss: 0.1588 - accuracy: 0.9618 - val_loss: 0.0387 - val_accuracy: 0.9844\n",
            "Epoch 24/25\n",
            "10/10 [==============================] - 11s 1s/step - loss: 0.1105 - accuracy: 0.9618 - val_loss: 0.0324 - val_accuracy: 0.9844\n",
            "Epoch 25/25\n",
            "10/10 [==============================] - 11s 1s/step - loss: 0.1174 - accuracy: 0.9650 - val_loss: 0.0240 - val_accuracy: 1.0000\n"
          ],
          "name": "stdout"
        }
      ]
    },
    {
      "cell_type": "markdown",
      "metadata": {
        "id": "cxGQY616wh9O"
      },
      "source": [
        "**Visualising the results I have gotten through a graph:**"
      ]
    },
    {
      "cell_type": "code",
      "metadata": {
        "colab": {
          "base_uri": "https://localhost:8080/",
          "height": 316
        },
        "id": "cKdALPfgoLJ5",
        "outputId": "384d8af3-d852-46ad-a1f4-a0c747c3acf0"
      },
      "source": [
        "import matplotlib.pyplot as plt\n",
        "\n",
        "plt.style.use(\"ggplot\")\n",
        "plt.figure()\n",
        "N = 25\n",
        "plt.plot(np.arange(0, N), hist.history[\"loss\"], label=\"train_loss\")\n",
        "plt.plot(np.arange(0, N), hist.history[\"val_loss\"], label=\"val_loss\")\n",
        "plt.plot(np.arange(0, N), hist.history[\"accuracy\"], label=\"train_acc\")\n",
        "plt.plot(np.arange(0, N), hist.history[\"val_accuracy\"], label=\"val_acc\")\n",
        "plt.title(\"Training Loss and Accuracy on X-Ray Diagnosis\")\n",
        "plt.xlabel(\"Epoch \")\n",
        "plt.ylabel(\"Loss/Accuracy\")\n",
        "plt.legend(loc=\"lower left\")"
      ],
      "execution_count": 33,
      "outputs": [
        {
          "output_type": "execute_result",
          "data": {
            "text/plain": [
              "<matplotlib.legend.Legend at 0x7f81435b7f28>"
            ]
          },
          "metadata": {
            "tags": []
          },
          "execution_count": 33
        },
        {
          "output_type": "display_data",
          "data": {
            "image/png": "[encoded data removed]",
            "text/plain": [
              "<Figure size 432x288 with 1 Axes>"
            ]
          },
          "metadata": {
            "tags": []
          }
        }
      ]
    },
    {
      "cell_type": "markdown",
      "metadata": {
        "id": "URpWL4tmworN"
      },
      "source": [
        "**Saving the model so as to gain a more comprehensive view of the resulting model in the following steps:**"
      ]
    },
    {
      "cell_type": "code",
      "metadata": {
        "id": "H9QGtgYa9Jin"
      },
      "source": [
        "model.save(\"model.h5\")"
      ],
      "execution_count": 34,
      "outputs": []
    },
    {
      "cell_type": "code",
      "metadata": {
        "id": "Padp-24x9QSf"
      },
      "source": [
        "from keras import models\n",
        "model=models.load_model(\"model.h5\")"
      ],
      "execution_count": 35,
      "outputs": []
    },
    {
      "cell_type": "markdown",
      "metadata": {
        "id": "bbQu1Eafw0MZ"
      },
      "source": [
        "**I have decided to visualise the result of the trained model on the test set using a confusing matrix:**"
      ]
    },
    {
      "cell_type": "code",
      "metadata": {
        "id": "8UqLRRPs9suG"
      },
      "source": [
        "from sklearn.metrics import confusion_matrix"
      ],
      "execution_count": 36,
      "outputs": []
    },
    {
      "cell_type": "markdown",
      "metadata": {
        "id": "xlwFIimlw84D"
      },
      "source": [
        "**Declaring an empty list so as to fill them with the ground truth labels and labels declared by our model:**"
      ]
    },
    {
      "cell_type": "code",
      "metadata": {
        "id": "nwsGlRy7-f_I"
      },
      "source": [
        "y_test=[]\n",
        "y_actual=[]"
      ],
      "execution_count": 37,
      "outputs": []
    },
    {
      "cell_type": "markdown",
      "metadata": {
        "id": "0K-HK4wNxHGf"
      },
      "source": [
        "**Passing the test images to the compiled model for the prediction stage:**"
      ]
    },
    {
      "cell_type": "code",
      "metadata": {
        "id": "ykp6O1rA_j30"
      },
      "source": [
        "for i in os.listdir('CovidDataset/Test/Normal/'):\n",
        "  img=image.load_img(\"./CovidDataset/Test/Normal/\"+i,target_size=(224,224))\n",
        "  img=image.img_to_array(img)\n",
        "  img=np.expand_dims(img,axis=0)\n",
        "  p=model.predict_classes(img)\n",
        "  y_test.append(p[0,0])\n",
        "  y_actual.append(1)"
      ],
      "execution_count": 38,
      "outputs": []
    },
    {
      "cell_type": "code",
      "metadata": {
        "id": "7d8zb-sU_kAn"
      },
      "source": [
        "for i in os.listdir('CovidDataset/Test/Covid/'):\n",
        "  img=image.load_img(\"./CovidDataset/Test/Covid/\"+i,target_size=(224,224))\n",
        "  img=image.img_to_array(img)\n",
        "  img=np.expand_dims(img,axis=0)\n",
        "  p=model.predict_classes(img)\n",
        "  y_test.append(p[0,0])\n",
        "  y_actual.append(0)"
      ],
      "execution_count": 39,
      "outputs": []
    },
    {
      "cell_type": "markdown",
      "metadata": {
        "id": "fDwUS5gmxPX8"
      },
      "source": [
        "**Converting the results we have got into an array to perform visualisation:**"
      ]
    },
    {
      "cell_type": "code",
      "metadata": {
        "id": "qQisFXLdAI9g"
      },
      "source": [
        "y_actual=np.array(y_actual)\n",
        "y_test=np.array(y_test)"
      ],
      "execution_count": 40,
      "outputs": []
    },
    {
      "cell_type": "markdown",
      "metadata": {
        "id": "cjzfLBcxxVqb"
      },
      "source": [
        "**Creating the Confusion Matrix:**"
      ]
    },
    {
      "cell_type": "code",
      "metadata": {
        "id": "WmB-oVSMAWnf"
      },
      "source": [
        "cm=confusion_matrix(y_actual,y_test)"
      ],
      "execution_count": 41,
      "outputs": []
    },
    {
      "cell_type": "code",
      "metadata": {
        "colab": {
          "base_uri": "https://localhost:8080/",
          "height": 282
        },
        "id": "3wiDC6WkAdQd",
        "outputId": "6cc782aa-a2b7-4fd8-eb5a-ffa777aeef20"
      },
      "source": [
        "import seaborn as sb\n",
        "sb.heatmap(cm,cmap='plasma',annot=True)"
      ],
      "execution_count": 42,
      "outputs": [
        {
          "output_type": "execute_result",
          "data": {
            "text/plain": [
              "<matplotlib.axes._subplots.AxesSubplot at 0x7f814346bcf8>"
            ]
          },
          "metadata": {
            "tags": []
          },
          "execution_count": 42
        },
        {
          "output_type": "display_data",
          "data": {
            "image/png": "[encoded data removed]",
            "text/plain": [
              "<Figure size 432x288 with 2 Axes>"
            ]
          },
          "metadata": {
            "tags": []
          }
        }
      ]
    },
    {
      "cell_type": "code",
      "metadata": {
        "id": "AeAlr5brpFqS"
      },
      "source": [
        ""
      ],
      "execution_count": null,
      "outputs": []
    }
  ]
}